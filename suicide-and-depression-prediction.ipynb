{
 "cells": [
  {
   "cell_type": "code",
   "execution_count": 1,
   "id": "a7d3659f",
   "metadata": {
    "_cell_guid": "b1076dfc-b9ad-4769-8c92-a6c4dae69d19",
    "_uuid": "8f2839f25d086af736a60e9eeb907d3b93b6e0e5",
    "papermill": {
     "duration": 6.201311,
     "end_time": "2025-01-04T13:33:13.518204",
     "exception": false,
     "start_time": "2025-01-04T13:33:07.316893",
     "status": "completed"
    },
    "tags": []
   },
   "outputs": [
    {
     "name": "stdout",
     "output_type": "stream",
     "text": [
      "Requirement already satisfied: neattext in c:\\users\\kiit0001\\appdata\\local\\programs\\python\\python312\\lib\\site-packages (0.1.3)\n",
      "Requirement already satisfied: tensorflow in c:\\users\\kiit0001\\appdata\\local\\programs\\python\\python312\\lib\\site-packages (2.18.0)\n",
      "Requirement already satisfied: tensorflow-intel==2.18.0 in c:\\users\\kiit0001\\appdata\\local\\programs\\python\\python312\\lib\\site-packages (from tensorflow) (2.18.0)\n",
      "Requirement already satisfied: absl-py>=1.0.0 in c:\\users\\kiit0001\\appdata\\local\\programs\\python\\python312\\lib\\site-packages (from tensorflow-intel==2.18.0->tensorflow) (2.1.0)\n",
      "Requirement already satisfied: astunparse>=1.6.0 in c:\\users\\kiit0001\\appdata\\local\\programs\\python\\python312\\lib\\site-packages (from tensorflow-intel==2.18.0->tensorflow) (1.6.3)\n",
      "Requirement already satisfied: flatbuffers>=24.3.25 in c:\\users\\kiit0001\\appdata\\local\\programs\\python\\python312\\lib\\site-packages (from tensorflow-intel==2.18.0->tensorflow) (24.12.23)\n",
      "Requirement already satisfied: gast!=0.5.0,!=0.5.1,!=0.5.2,>=0.2.1 in c:\\users\\kiit0001\\appdata\\local\\programs\\python\\python312\\lib\\site-packages (from tensorflow-intel==2.18.0->tensorflow) (0.6.0)\n",
      "Requirement already satisfied: google-pasta>=0.1.1 in c:\\users\\kiit0001\\appdata\\local\\programs\\python\\python312\\lib\\site-packages (from tensorflow-intel==2.18.0->tensorflow) (0.2.0)\n",
      "Requirement already satisfied: libclang>=13.0.0 in c:\\users\\kiit0001\\appdata\\local\\programs\\python\\python312\\lib\\site-packages (from tensorflow-intel==2.18.0->tensorflow) (18.1.1)\n",
      "Requirement already satisfied: opt-einsum>=2.3.2 in c:\\users\\kiit0001\\appdata\\local\\programs\\python\\python312\\lib\\site-packages (from tensorflow-intel==2.18.0->tensorflow) (3.4.0)\n",
      "Requirement already satisfied: packaging in c:\\users\\kiit0001\\appdata\\local\\programs\\python\\python312\\lib\\site-packages (from tensorflow-intel==2.18.0->tensorflow) (24.2)\n",
      "Requirement already satisfied: protobuf!=4.21.0,!=4.21.1,!=4.21.2,!=4.21.3,!=4.21.4,!=4.21.5,<6.0.0dev,>=3.20.3 in c:\\users\\kiit0001\\appdata\\local\\programs\\python\\python312\\lib\\site-packages (from tensorflow-intel==2.18.0->tensorflow) (5.29.2)\n",
      "Requirement already satisfied: requests<3,>=2.21.0 in c:\\users\\kiit0001\\appdata\\local\\programs\\python\\python312\\lib\\site-packages (from tensorflow-intel==2.18.0->tensorflow) (2.32.3)\n",
      "Requirement already satisfied: setuptools in c:\\users\\kiit0001\\appdata\\local\\programs\\python\\python312\\lib\\site-packages (from tensorflow-intel==2.18.0->tensorflow) (71.1.0)\n",
      "Requirement already satisfied: six>=1.12.0 in c:\\users\\kiit0001\\appdata\\local\\programs\\python\\python312\\lib\\site-packages (from tensorflow-intel==2.18.0->tensorflow) (1.17.0)\n",
      "Requirement already satisfied: termcolor>=1.1.0 in c:\\users\\kiit0001\\appdata\\local\\programs\\python\\python312\\lib\\site-packages (from tensorflow-intel==2.18.0->tensorflow) (2.5.0)\n",
      "Requirement already satisfied: typing-extensions>=3.6.6 in c:\\users\\kiit0001\\appdata\\local\\programs\\python\\python312\\lib\\site-packages (from tensorflow-intel==2.18.0->tensorflow) (4.12.2)\n",
      "Requirement already satisfied: wrapt>=1.11.0 in c:\\users\\kiit0001\\appdata\\local\\programs\\python\\python312\\lib\\site-packages (from tensorflow-intel==2.18.0->tensorflow) (1.17.0)\n",
      "Requirement already satisfied: grpcio<2.0,>=1.24.3 in c:\\users\\kiit0001\\appdata\\local\\programs\\python\\python312\\lib\\site-packages (from tensorflow-intel==2.18.0->tensorflow) (1.69.0)\n",
      "Requirement already satisfied: tensorboard<2.19,>=2.18 in c:\\users\\kiit0001\\appdata\\local\\programs\\python\\python312\\lib\\site-packages (from tensorflow-intel==2.18.0->tensorflow) (2.18.0)\n",
      "Requirement already satisfied: keras>=3.5.0 in c:\\users\\kiit0001\\appdata\\local\\programs\\python\\python312\\lib\\site-packages (from tensorflow-intel==2.18.0->tensorflow) (3.8.0)\n",
      "Requirement already satisfied: numpy<2.1.0,>=1.26.0 in c:\\users\\kiit0001\\appdata\\local\\programs\\python\\python312\\lib\\site-packages (from tensorflow-intel==2.18.0->tensorflow) (2.0.2)\n",
      "Requirement already satisfied: h5py>=3.11.0 in c:\\users\\kiit0001\\appdata\\local\\programs\\python\\python312\\lib\\site-packages (from tensorflow-intel==2.18.0->tensorflow) (3.12.1)\n",
      "Requirement already satisfied: ml-dtypes<0.5.0,>=0.4.0 in c:\\users\\kiit0001\\appdata\\local\\programs\\python\\python312\\lib\\site-packages (from tensorflow-intel==2.18.0->tensorflow) (0.4.1)\n",
      "Requirement already satisfied: wheel<1.0,>=0.23.0 in c:\\users\\kiit0001\\appdata\\local\\programs\\python\\python312\\lib\\site-packages (from astunparse>=1.6.0->tensorflow-intel==2.18.0->tensorflow) (0.45.1)\n",
      "Requirement already satisfied: rich in c:\\users\\kiit0001\\appdata\\local\\programs\\python\\python312\\lib\\site-packages (from keras>=3.5.0->tensorflow-intel==2.18.0->tensorflow) (13.9.4)\n",
      "Requirement already satisfied: namex in c:\\users\\kiit0001\\appdata\\local\\programs\\python\\python312\\lib\\site-packages (from keras>=3.5.0->tensorflow-intel==2.18.0->tensorflow) (0.0.8)\n",
      "Requirement already satisfied: optree in c:\\users\\kiit0001\\appdata\\local\\programs\\python\\python312\\lib\\site-packages (from keras>=3.5.0->tensorflow-intel==2.18.0->tensorflow) (0.13.1)\n",
      "Requirement already satisfied: charset-normalizer<4,>=2 in c:\\users\\kiit0001\\appdata\\local\\programs\\python\\python312\\lib\\site-packages (from requests<3,>=2.21.0->tensorflow-intel==2.18.0->tensorflow) (3.3.2)\n",
      "Requirement already satisfied: idna<4,>=2.5 in c:\\users\\kiit0001\\appdata\\local\\programs\\python\\python312\\lib\\site-packages (from requests<3,>=2.21.0->tensorflow-intel==2.18.0->tensorflow) (3.7)\n",
      "Requirement already satisfied: urllib3<3,>=1.21.1 in c:\\users\\kiit0001\\appdata\\local\\programs\\python\\python312\\lib\\site-packages (from requests<3,>=2.21.0->tensorflow-intel==2.18.0->tensorflow) (2.2.2)\n",
      "Requirement already satisfied: certifi>=2017.4.17 in c:\\users\\kiit0001\\appdata\\local\\programs\\python\\python312\\lib\\site-packages (from requests<3,>=2.21.0->tensorflow-intel==2.18.0->tensorflow) (2024.7.4)\n",
      "Requirement already satisfied: markdown>=2.6.8 in c:\\users\\kiit0001\\appdata\\local\\programs\\python\\python312\\lib\\site-packages (from tensorboard<2.19,>=2.18->tensorflow-intel==2.18.0->tensorflow) (3.7)\n",
      "Requirement already satisfied: tensorboard-data-server<0.8.0,>=0.7.0 in c:\\users\\kiit0001\\appdata\\local\\programs\\python\\python312\\lib\\site-packages (from tensorboard<2.19,>=2.18->tensorflow-intel==2.18.0->tensorflow) (0.7.2)\n",
      "Requirement already satisfied: werkzeug>=1.0.1 in c:\\users\\kiit0001\\appdata\\local\\programs\\python\\python312\\lib\\site-packages (from tensorboard<2.19,>=2.18->tensorflow-intel==2.18.0->tensorflow) (3.1.3)\n",
      "Requirement already satisfied: MarkupSafe>=2.1.1 in c:\\users\\kiit0001\\appdata\\local\\programs\\python\\python312\\lib\\site-packages (from werkzeug>=1.0.1->tensorboard<2.19,>=2.18->tensorflow-intel==2.18.0->tensorflow) (3.0.2)\n",
      "Requirement already satisfied: markdown-it-py>=2.2.0 in c:\\users\\kiit0001\\appdata\\local\\programs\\python\\python312\\lib\\site-packages (from rich->keras>=3.5.0->tensorflow-intel==2.18.0->tensorflow) (3.0.0)\n",
      "Requirement already satisfied: pygments<3.0.0,>=2.13.0 in c:\\users\\kiit0001\\appdata\\local\\programs\\python\\python312\\lib\\site-packages (from rich->keras>=3.5.0->tensorflow-intel==2.18.0->tensorflow) (2.19.1)\n",
      "Requirement already satisfied: mdurl~=0.1 in c:\\users\\kiit0001\\appdata\\local\\programs\\python\\python312\\lib\\site-packages (from markdown-it-py>=2.2.0->rich->keras>=3.5.0->tensorflow-intel==2.18.0->tensorflow) (0.1.2)\n",
      "Note: you may need to restart the kernel to use updated packages.\n"
     ]
    }
   ],
   "source": [
    "!pip install neattext\n",
    "%pip install tensorflow"
   ]
  },
  {
   "cell_type": "code",
   "execution_count": 2,
   "id": "2c5b509e",
   "metadata": {},
   "outputs": [
    {
     "name": "stdout",
     "output_type": "stream",
     "text": [
      "Requirement already satisfied: pandas in c:\\users\\kiit0001\\appdata\\local\\programs\\python\\python312\\lib\\site-packages (2.2.3)\n",
      "Requirement already satisfied: numpy>=1.26.0 in c:\\users\\kiit0001\\appdata\\local\\programs\\python\\python312\\lib\\site-packages (from pandas) (2.0.2)\n",
      "Requirement already satisfied: python-dateutil>=2.8.2 in c:\\users\\kiit0001\\appdata\\local\\programs\\python\\python312\\lib\\site-packages (from pandas) (2.9.0.post0)\n",
      "Requirement already satisfied: pytz>=2020.1 in c:\\users\\kiit0001\\appdata\\local\\programs\\python\\python312\\lib\\site-packages (from pandas) (2024.2)\n",
      "Requirement already satisfied: tzdata>=2022.7 in c:\\users\\kiit0001\\appdata\\local\\programs\\python\\python312\\lib\\site-packages (from pandas) (2024.2)\n",
      "Requirement already satisfied: six>=1.5 in c:\\users\\kiit0001\\appdata\\local\\programs\\python\\python312\\lib\\site-packages (from python-dateutil>=2.8.2->pandas) (1.17.0)\n",
      "Note: you may need to restart the kernel to use updated packages.\n"
     ]
    }
   ],
   "source": [
    "pip install pandas"
   ]
  },
  {
   "cell_type": "code",
   "execution_count": 3,
   "id": "3d7362af",
   "metadata": {},
   "outputs": [
    {
     "name": "stdout",
     "output_type": "stream",
     "text": [
      "Requirement already satisfied: numpy in c:\\users\\kiit0001\\appdata\\local\\programs\\python\\python312\\lib\\site-packages (2.0.2)\n",
      "Note: you may need to restart the kernel to use updated packages.\n"
     ]
    }
   ],
   "source": [
    "pip install numpy"
   ]
  },
  {
   "cell_type": "code",
   "execution_count": 4,
   "id": "d1ad8a8c",
   "metadata": {
    "papermill": {
     "duration": 10.705383,
     "end_time": "2025-01-04T13:33:24.229987",
     "exception": false,
     "start_time": "2025-01-04T13:33:13.524604",
     "status": "completed"
    },
    "tags": []
   },
   "outputs": [],
   "source": [
    "import tensorflow as tf\n",
    "from tensorflow.keras.preprocessing.text import Tokenizer"
   ]
  },
  {
   "cell_type": "code",
   "execution_count": 5,
   "id": "347125d6",
   "metadata": {},
   "outputs": [
    {
     "name": "stdout",
     "output_type": "stream",
     "text": [
      "Requirement already satisfied: scikit-learn in c:\\users\\kiit0001\\appdata\\local\\programs\\python\\python312\\lib\\site-packages (1.6.0)Note: you may need to restart the kernel to use updated packages.\n",
      "\n"
     ]
    },
    {
     "name": "stderr",
     "output_type": "stream",
     "text": [
      "ERROR: Could not find a version that satisfies the requirement as (from versions: none)\n",
      "ERROR: No matching distribution found for as\n"
     ]
    }
   ],
   "source": [
    "pip install scikit-learn as sklearn"
   ]
  },
  {
   "cell_type": "code",
   "execution_count": 6,
   "id": "ed91a57c",
   "metadata": {},
   "outputs": [
    {
     "name": "stdout",
     "output_type": "stream",
     "text": [
      "Requirement already satisfied: plotly-express in c:\\users\\kiit0001\\appdata\\local\\programs\\python\\python312\\lib\\site-packages (0.4.1)Note: you may need to restart the kernel to use updated packages.\n",
      "\n",
      "Requirement already satisfied: pandas>=0.20.0 in c:\\users\\kiit0001\\appdata\\local\\programs\\python\\python312\\lib\\site-packages (from plotly-express) (2.2.3)\n",
      "Requirement already satisfied: plotly>=4.1.0 in c:\\users\\kiit0001\\appdata\\local\\programs\\python\\python312\\lib\\site-packages (from plotly-express) (5.24.1)\n",
      "Requirement already satisfied: statsmodels>=0.9.0 in c:\\users\\kiit0001\\appdata\\local\\programs\\python\\python312\\lib\\site-packages (from plotly-express) (0.14.4)\n",
      "Requirement already satisfied: scipy>=0.18 in c:\\users\\kiit0001\\appdata\\local\\programs\\python\\python312\\lib\\site-packages (from plotly-express) (1.15.0)\n",
      "Requirement already satisfied: patsy>=0.5 in c:\\users\\kiit0001\\appdata\\local\\programs\\python\\python312\\lib\\site-packages (from plotly-express) (1.0.1)\n",
      "Requirement already satisfied: numpy>=1.11 in c:\\users\\kiit0001\\appdata\\local\\programs\\python\\python312\\lib\\site-packages (from plotly-express) (2.0.2)\n",
      "Requirement already satisfied: python-dateutil>=2.8.2 in c:\\users\\kiit0001\\appdata\\local\\programs\\python\\python312\\lib\\site-packages (from pandas>=0.20.0->plotly-express) (2.9.0.post0)\n",
      "Requirement already satisfied: pytz>=2020.1 in c:\\users\\kiit0001\\appdata\\local\\programs\\python\\python312\\lib\\site-packages (from pandas>=0.20.0->plotly-express) (2024.2)\n",
      "Requirement already satisfied: tzdata>=2022.7 in c:\\users\\kiit0001\\appdata\\local\\programs\\python\\python312\\lib\\site-packages (from pandas>=0.20.0->plotly-express) (2024.2)\n",
      "Requirement already satisfied: tenacity>=6.2.0 in c:\\users\\kiit0001\\appdata\\local\\programs\\python\\python312\\lib\\site-packages (from plotly>=4.1.0->plotly-express) (9.0.0)\n",
      "Requirement already satisfied: packaging in c:\\users\\kiit0001\\appdata\\local\\programs\\python\\python312\\lib\\site-packages (from plotly>=4.1.0->plotly-express) (24.2)\n",
      "Requirement already satisfied: six>=1.5 in c:\\users\\kiit0001\\appdata\\local\\programs\\python\\python312\\lib\\site-packages (from python-dateutil>=2.8.2->pandas>=0.20.0->plotly-express) (1.17.0)\n"
     ]
    },
    {
     "name": "stdout",
     "output_type": "stream",
     "text": [
      "Collecting plotly\n",
      "  Downloading plotly-5.24.1-py3-none-any.whl.metadata (7.3 kB)\n",
      "Collecting tenacity>=6.2.0 (from plotly)\n",
      "  Downloading tenacity-9.0.0-py3-none-any.whl.metadata (1.2 kB)\n",
      "Requirement already satisfied: packaging in c:\\users\\kiit0001\\appdata\\local\\programs\\python\\python312\\lib\\site-packages (from plotly) (24.2)\n",
      "Downloading plotly-5.24.1-py3-none-any.whl (19.1 MB)\n",
      "   ---------------------------------------- 0.0/19.1 MB ? eta -:--:--\n",
      "   - -------------------------------------- 0.8/19.1 MB 8.3 MB/s eta 0:00:03\n",
      "   ---- ----------------------------------- 2.4/19.1 MB 6.4 MB/s eta 0:00:03\n",
      "   --------- ------------------------------ 4.7/19.1 MB 8.1 MB/s eta 0:00:02\n",
      "   -------------- ------------------------- 6.8/19.1 MB 8.6 MB/s eta 0:00:02\n",
      "   ------------------ --------------------- 8.9/19.1 MB 8.9 MB/s eta 0:00:02\n",
      "   ----------------------- ---------------- 11.0/19.1 MB 9.0 MB/s eta 0:00:01\n",
      "   ---------------------------- ----------- 13.4/19.1 MB 9.3 MB/s eta 0:00:01\n",
      "   --------------------------------- ------ 15.7/19.1 MB 9.5 MB/s eta 0:00:01\n",
      "   ------------------------------------- -- 18.1/19.1 MB 9.8 MB/s eta 0:00:01\n",
      "   ---------------------------------------- 19.1/19.1 MB 9.5 MB/s eta 0:00:00\n",
      "Downloading tenacity-9.0.0-py3-none-any.whl (28 kB)\n",
      "Installing collected packages: tenacity, plotly\n",
      "Successfully installed plotly-5.24.1 tenacity-9.0.0\n"
     ]
    }
   ],
   "source": [
    "pip install plotly-express"
   ]
  },
  {
   "cell_type": "code",
   "execution_count": 7,
   "id": "c2f707ce",
   "metadata": {},
   "outputs": [
    {
     "name": "stdout",
     "output_type": "stream",
     "text": [
      "Requirement already satisfied: tqdm in c:\\users\\kiit0001\\appdata\\local\\programs\\python\\python312\\lib\\site-packages (4.67.1)\n",
      "Requirement already satisfied: colorama in c:\\users\\kiit0001\\appdata\\local\\programs\\python\\python312\\lib\\site-packages (from tqdm) (0.4.6)\n",
      "Note: you may need to restart the kernel to use updated packages.\n"
     ]
    }
   ],
   "source": [
    "pip install tqdm"
   ]
  },
  {
   "cell_type": "code",
   "execution_count": 8,
   "id": "ea582d9c",
   "metadata": {
    "papermill": {
     "duration": 1.546474,
     "end_time": "2025-01-04T13:33:25.783017",
     "exception": false,
     "start_time": "2025-01-04T13:33:24.236543",
     "status": "completed"
    },
    "tags": []
   },
   "outputs": [],
   "source": [
    "import numpy as np \n",
    "import pandas as pd\n",
    "from sklearn.model_selection import train_test_split\n",
    "\n",
    "import neattext.functions as nfx\n",
    "import plotly.express as plx\n",
    "from sklearn.metrics import classification_report\n",
    "import keras\n",
    "from keras.layers import Embedding,Dense,LSTM,GlobalMaxPooling1D,Input\n",
    "from keras.callbacks import EarlyStopping,ReduceLROnPlateau\n",
    "from keras.models import Sequential\n",
    "import tensorflow as tf\n",
    "from keras.utils import pad_sequences\n",
    "from sklearn.preprocessing import LabelEncoder\n",
    "from tqdm import tqdm"
   ]
  },
  {
   "cell_type": "code",
   "execution_count": 13,
   "id": "9db3fb63",
   "metadata": {},
   "outputs": [
    {
     "name": "stdout",
     "output_type": "stream",
     "text": [
      "['C:\\\\Users\\\\KIIT0001\\\\Desktop\\\\icdcit\\\\suicide-and-depression-prediction.ipynb', 'C:\\\\Users\\\\KIIT0001\\\\Desktop\\\\icdcit\\\\suicide_depression_model.pkl', 'C:\\\\Users\\\\KIIT0001\\\\Desktop\\\\icdcit\\\\Suicide_Detection.csv']\n"
     ]
    }
   ],
   "source": [
    "data=pd.read_csv('Suicide_Detection.csv')\n",
    "data.head()\n",
    "# import os\n",
    "# print([os.path.abspath(f) for f in os.listdir() if os.path.isfile(f)])"
   ]
  },
  {
   "cell_type": "code",
   "execution_count": 16,
   "id": "d2b9dde1",
   "metadata": {
    "papermill": {
     "duration": 4.543704,
     "end_time": "2025-01-04T13:33:30.332792",
     "exception": false,
     "start_time": "2025-01-04T13:33:25.789088",
     "status": "completed"
    },
    "tags": []
   },
   "outputs": [
    {
     "name": "stdout",
     "output_type": "stream",
     "text": [
      "['C:\\\\Users\\\\KIIT0001\\\\Desktop\\\\icdcit\\\\suicide-and-depression-prediction.ipynb', 'C:\\\\Users\\\\KIIT0001\\\\Desktop\\\\icdcit\\\\suicide_depression_model.pkl', 'C:\\\\Users\\\\KIIT0001\\\\Desktop\\\\icdcit\\\\Suicide_Detection.csv']\n"
     ]
    }
   ],
   "source": [
    "# data=pd.read_csv('C:\\Users\\KIIT0001\\suicide-watch.zip')\n",
    "# data.head()\n",
    "\n",
    "print([os.path.abspath(f) for f in os.listdir() if os.path.isfile(f)])"
   ]
  },
  {
   "cell_type": "code",
   "execution_count": 17,
   "id": "68df705b",
   "metadata": {
    "papermill": {
     "duration": 0.03418,
     "end_time": "2025-01-04T13:33:30.373368",
     "exception": false,
     "start_time": "2025-01-04T13:33:30.339188",
     "status": "completed"
    },
    "tags": []
   },
   "outputs": [
    {
     "data": {
      "text/plain": [
       "class\n",
       "suicide        116037\n",
       "non-suicide    116037\n",
       "Name: count, dtype: int64"
      ]
     },
     "execution_count": 17,
     "metadata": {},
     "output_type": "execute_result"
    }
   ],
   "source": [
    "data['class'].value_counts()"
   ]
  },
  {
   "cell_type": "code",
   "execution_count": 18,
   "id": "527620af",
   "metadata": {
    "papermill": {
     "duration": 0.027385,
     "end_time": "2025-01-04T13:33:30.407365",
     "exception": false,
     "start_time": "2025-01-04T13:33:30.379980",
     "status": "completed"
    },
    "tags": []
   },
   "outputs": [
    {
     "data": {
      "text/plain": [
       "array(['suicide', 'non-suicide'], dtype=object)"
      ]
     },
     "execution_count": 18,
     "metadata": {},
     "output_type": "execute_result"
    }
   ],
   "source": [
    "data['class'].value_counts().index.values"
   ]
  },
  {
   "cell_type": "code",
   "execution_count": 19,
   "id": "43d4b06c",
   "metadata": {
    "papermill": {
     "duration": 0.065467,
     "end_time": "2025-01-04T13:33:30.479637",
     "exception": false,
     "start_time": "2025-01-04T13:33:30.414170",
     "status": "completed"
    },
    "tags": []
   },
   "outputs": [],
   "source": [
    "train_data,test_data=train_test_split(data,test_size=0.2,random_state=10)"
   ]
  },
  {
   "cell_type": "code",
   "execution_count": 20,
   "id": "ecfd972e",
   "metadata": {
    "papermill": {
     "duration": 0.025657,
     "end_time": "2025-01-04T13:33:30.511705",
     "exception": false,
     "start_time": "2025-01-04T13:33:30.486048",
     "status": "completed"
    },
    "tags": []
   },
   "outputs": [
    {
     "data": {
      "text/plain": [
       "array(['suicide', 'non-suicide'], dtype=object)"
      ]
     },
     "execution_count": 20,
     "metadata": {},
     "output_type": "execute_result"
    }
   ],
   "source": [
    "train_data['class'].value_counts().index.values"
   ]
  },
  {
   "cell_type": "code",
   "execution_count": 21,
   "id": "05f30c74",
   "metadata": {
    "papermill": {
     "duration": 0.01482,
     "end_time": "2025-01-04T13:33:30.533002",
     "exception": false,
     "start_time": "2025-01-04T13:33:30.518182",
     "status": "completed"
    },
    "tags": []
   },
   "outputs": [],
   "source": [
    "def clean_text(text):\n",
    "    text_length=[]\n",
    "    cleaned_text=[]\n",
    "    for sent in tqdm(text):\n",
    "        sent=sent.lower()\n",
    "        sent=nfx.remove_special_characters(sent)\n",
    "        sent=nfx.remove_stopwords(sent)\n",
    "        text_length.append(len(sent.split()))\n",
    "        cleaned_text.append(sent)\n",
    "    return cleaned_text,text_length"
   ]
  },
  {
   "cell_type": "code",
   "execution_count": 22,
   "id": "d7d52fb7",
   "metadata": {
    "papermill": {
     "duration": 13.707074,
     "end_time": "2025-01-04T13:33:44.246595",
     "exception": false,
     "start_time": "2025-01-04T13:33:30.539521",
     "status": "completed"
    },
    "tags": []
   },
   "outputs": [
    {
     "name": "stderr",
     "output_type": "stream",
     "text": [
      "100%|████████████████████████████████████████████████████████████████████████| 185659/185659 [01:55<00:00, 1601.77it/s]\n",
      "100%|██████████████████████████████████████████████████████████████████████████| 46415/46415 [00:07<00:00, 6130.01it/s]\n"
     ]
    }
   ],
   "source": [
    "cleaned_train_text,train_text_length=clean_text(train_data.text)\n",
    "cleaned_test_text,test_text_length=clean_text(test_data.text)"
   ]
  },
  {
   "cell_type": "code",
   "execution_count": null,
   "id": "85f36c97",
   "metadata": {
    "papermill": {
     "duration": 10.545753,
     "end_time": "2025-01-04T13:33:54.806648",
     "exception": false,
     "start_time": "2025-01-04T13:33:44.260895",
     "status": "completed"
    },
    "tags": []
   },
   "outputs": [],
   "source": [
    "tokenizer=Tokenizer()\n",
    "tokenizer.fit_on_texts(cleaned_train_text)"
   ]
  },
  {
   "cell_type": "code",
   "execution_count": null,
   "id": "90b7e337",
   "metadata": {
    "papermill": {
     "duration": 0.056103,
     "end_time": "2025-01-04T13:33:54.876707",
     "exception": false,
     "start_time": "2025-01-04T13:33:54.820604",
     "status": "completed"
    },
    "tags": []
   },
   "outputs": [],
   "source": [
    "cleaned_train_text"
   ]
  },
  {
   "cell_type": "code",
   "execution_count": null,
   "id": "4346a8a0",
   "metadata": {
    "papermill": {
     "duration": 8.862348,
     "end_time": "2025-01-04T13:34:03.759485",
     "exception": false,
     "start_time": "2025-01-04T13:33:54.897137",
     "status": "completed"
    },
    "tags": []
   },
   "outputs": [],
   "source": [
    "train_text_seq=tokenizer.texts_to_sequences(cleaned_train_text)\n",
    "train_text_pad=pad_sequences(train_text_seq,maxlen=50)\n",
    "\n",
    "\n",
    "test_text_seq=tokenizer.texts_to_sequences(cleaned_test_text)\n",
    "test_text_pad=pad_sequences(test_text_seq,maxlen=50)"
   ]
  },
  {
   "cell_type": "code",
   "execution_count": null,
   "id": "6de4e657",
   "metadata": {
    "papermill": {
     "duration": 0.030335,
     "end_time": "2025-01-04T13:34:03.810972",
     "exception": false,
     "start_time": "2025-01-04T13:34:03.780637",
     "status": "completed"
    },
    "tags": []
   },
   "outputs": [],
   "source": [
    "train_text_pad"
   ]
  },
  {
   "cell_type": "markdown",
   "id": "1b90896b",
   "metadata": {
    "papermill": {
     "duration": 0.023382,
     "end_time": "2025-01-04T13:34:03.853948",
     "exception": false,
     "start_time": "2025-01-04T13:34:03.830566",
     "status": "completed"
    },
    "tags": []
   },
   "source": [
    "Glove embeddings"
   ]
  },
  {
   "cell_type": "code",
   "execution_count": null,
   "id": "f8235853",
   "metadata": {
    "papermill": {
     "duration": 0.06836,
     "end_time": "2025-01-04T13:34:03.944744",
     "exception": false,
     "start_time": "2025-01-04T13:34:03.876384",
     "status": "completed"
    },
    "tags": []
   },
   "outputs": [],
   "source": [
    "lbl_target=LabelEncoder()\n",
    "train_output=lbl_target.fit_transform(train_data['class'])\n",
    "test_output=lbl_target.transform(test_data['class'])"
   ]
  },
  {
   "cell_type": "code",
   "execution_count": null,
   "id": "be45f899",
   "metadata": {
    "papermill": {
     "duration": 0.472995,
     "end_time": "2025-01-04T13:34:04.440359",
     "exception": false,
     "start_time": "2025-01-04T13:34:03.967364",
     "status": "completed"
    },
    "tags": []
   },
   "outputs": [],
   "source": [
    "import kagglehub\n",
    "pickled_glove840b300d_for_10sec_loading_path = kagglehub.dataset_download('authman/pickled-glove840b300d-for-10sec-loading')"
   ]
  },
  {
   "cell_type": "code",
   "execution_count": null,
   "id": "36deade1",
   "metadata": {
    "papermill": {
     "duration": 30.779214,
     "end_time": "2025-01-04T13:34:35.240440",
     "exception": false,
     "start_time": "2025-01-04T13:34:04.461226",
     "status": "completed"
    },
    "tags": []
   },
   "outputs": [],
   "source": [
    "import pickle\n",
    "with open('/kaggle/input/pickled-glove840b300d-for-10sec-loading/glove.840B.300d.pkl', 'rb') as fp:\n",
    "    glove_embedding = pickle.load(fp)"
   ]
  },
  {
   "cell_type": "code",
   "execution_count": null,
   "id": "2ec43dc0",
   "metadata": {
    "papermill": {
     "duration": 0.627018,
     "end_time": "2025-01-04T13:34:35.887068",
     "exception": false,
     "start_time": "2025-01-04T13:34:35.260050",
     "status": "completed"
    },
    "tags": []
   },
   "outputs": [],
   "source": [
    "v=len(tokenizer.word_index)\n",
    "\n",
    "embedding_matrix=np.zeros((v+1,300), dtype=float)\n",
    "for word,idx in tokenizer.word_index.items():\n",
    "    embedding_vector=glove_embedding.get(word)\n",
    "    if embedding_vector is not None:\n",
    "        embedding_matrix[idx]=embedding_vector"
   ]
  },
  {
   "cell_type": "code",
   "execution_count": null,
   "id": "f5ce1c9d",
   "metadata": {
    "papermill": {
     "duration": 0.032964,
     "end_time": "2025-01-04T13:34:35.939824",
     "exception": false,
     "start_time": "2025-01-04T13:34:35.906860",
     "status": "completed"
    },
    "tags": []
   },
   "outputs": [],
   "source": [
    "embedding_matrix"
   ]
  },
  {
   "cell_type": "code",
   "execution_count": null,
   "id": "523b874b",
   "metadata": {
    "papermill": {
     "duration": 0.02756,
     "end_time": "2025-01-04T13:34:35.987377",
     "exception": false,
     "start_time": "2025-01-04T13:34:35.959817",
     "status": "completed"
    },
    "tags": []
   },
   "outputs": [],
   "source": [
    "early_stop=EarlyStopping(patience=5)\n",
    "reducelr=ReduceLROnPlateau(patience=3)"
   ]
  },
  {
   "cell_type": "markdown",
   "id": "0ee0ab36",
   "metadata": {
    "papermill": {
     "duration": 0.019212,
     "end_time": "2025-01-04T13:34:36.026547",
     "exception": false,
     "start_time": "2025-01-04T13:34:36.007335",
     "status": "completed"
    },
    "tags": []
   },
   "source": [
    "keras sequential model"
   ]
  },
  {
   "cell_type": "code",
   "execution_count": null,
   "id": "a47ac1b5",
   "metadata": {
    "papermill": {
     "duration": 1.766531,
     "end_time": "2025-01-04T13:34:37.813054",
     "exception": false,
     "start_time": "2025-01-04T13:34:36.046523",
     "status": "completed"
    },
    "tags": []
   },
   "outputs": [],
   "source": [
    "model=Sequential()\n",
    "model.add(Input(shape=(40,)))\n",
    "model.add(Embedding(v+1,300,weights=[embedding_matrix],trainable=False))\n",
    "model.add(LSTM(20,return_sequences=True))\n",
    "model.add(GlobalMaxPooling1D())\n",
    "model.add(Dense(256,activation='relu'))\n",
    "model.add(Dense(1,activation='sigmoid'))\n",
    "model.compile(optimizer=keras.optimizers.SGD(0.1,momentum=0.09),loss='binary_crossentropy',metrics=['accuracy'])"
   ]
  },
  {
   "cell_type": "code",
   "execution_count": null,
   "id": "6bad5eec",
   "metadata": {
    "papermill": {
     "duration": 0.044336,
     "end_time": "2025-01-04T13:34:37.877465",
     "exception": false,
     "start_time": "2025-01-04T13:34:37.833129",
     "status": "completed"
    },
    "tags": []
   },
   "outputs": [],
   "source": [
    "model.summary()"
   ]
  },
  {
   "cell_type": "markdown",
   "id": "5c0dd113",
   "metadata": {
    "papermill": {
     "duration": 0.02137,
     "end_time": "2025-01-04T13:34:37.920050",
     "exception": false,
     "start_time": "2025-01-04T13:34:37.898680",
     "status": "completed"
    },
    "tags": []
   },
   "source": [
    "Model Training and Evaluation"
   ]
  },
  {
   "cell_type": "code",
   "execution_count": null,
   "id": "e85af534",
   "metadata": {
    "papermill": {
     "duration": 564.508011,
     "end_time": "2025-01-04T13:44:02.448255",
     "exception": false,
     "start_time": "2025-01-04T13:34:37.940244",
     "status": "completed"
    },
    "tags": []
   },
   "outputs": [],
   "source": [
    "r=model.fit(train_text_pad,train_output,validation_data=(test_text_pad,test_output),\n",
    "            epochs=20,batch_size=256,callbacks=[early_stop,reducelr])"
   ]
  },
  {
   "cell_type": "code",
   "execution_count": null,
   "id": "66ea578d",
   "metadata": {
    "papermill": {
     "duration": 0.653583,
     "end_time": "2025-01-04T13:44:03.471579",
     "exception": false,
     "start_time": "2025-01-04T13:44:02.817996",
     "status": "completed"
    },
    "tags": []
   },
   "outputs": [],
   "source": [
    "twt = ['i am happy']\n",
    "twt = tokenizer.texts_to_sequences(twt)\n",
    "twt = pad_sequences(twt, maxlen=50)\n",
    "\n",
    "prediction = model.predict(twt)[0][0]\n",
    "print(prediction)\n",
    "\n",
    "if(prediction > 0.5):\n",
    "    print(\"Potential Suicide Post\")\n",
    "else:\n",
    "    print(\"Non Suicide Post\")"
   ]
  },
  {
   "cell_type": "code",
   "execution_count": null,
   "id": "086fd66f",
   "metadata": {
    "papermill": {
     "duration": 0.893951,
     "end_time": "2025-01-04T13:44:04.746532",
     "exception": true,
     "start_time": "2025-01-04T13:44:03.852581",
     "status": "failed"
    },
    "tags": []
   },
   "outputs": [],
   "source": [
    "twt = ['Through these past years thoughts of suicide, fear, anxiety I’m so close to my limit']\n",
    "twt = tokenizer.texts_to_sequences(twt)\n",
    "twt = pad_sequences(twt, maxlen=50)\n",
    "\n",
    "\n",
    "prediction = model.predict(twt)[0][0]\n",
    "print(prediction)\n",
    "\n",
    "if(prediction > 0.5):\n",
    "    print(\"Potential Suicide Post\")\n",
    "elif (prediction == 1):\n",
    "    print(\"Non Suicide Post\")"
   ]
  },
  {
   "cell_type": "code",
   "execution_count": null,
   "id": "b0a0f665-fae4-4759-923e-c88319fb2448",
   "metadata": {},
   "outputs": [],
   "source": [
    "import pickle\n",
    "\n",
    "# Assuming `model` is the trained model from the Kaggle notebook\n",
    "# Replace this line with the actual training code or model object\n",
    "# Example: model = RandomForestClassifier().fit(X_train, y_train)\n",
    "\n",
    "# Save the model to a pickle file\n",
    "pickle_file_path = 'suicide_depression_model.pkl'\n",
    "\n",
    "# Serializing the model\n",
    "with open(pickle_file_path, 'wb') as file:\n",
    "    pickle.dump(model, file)\n",
    "\n",
    "print(f\"Model has been saved to {pickle_file_path}\")"
   ]
  },
  {
   "cell_type": "code",
   "execution_count": null,
   "id": "b5dea5dd-c890-4de6-9891-35d4ba28e20b",
   "metadata": {},
   "outputs": [],
   "source": [
    "from flask import Flask, request, jsonify\n",
    "import pickle\n",
    "\n",
    "# Load your trained NLP model (adjust the path to your pickle file)\n",
    "with open('/kaggle/working/suicide_depression_model.pkl', 'rb') as f:\n",
    "    model = pickle.load(f)\n",
    "\n",
    "app = Flask(__name__)\n",
    "\n",
    "# Define a route for predictions\n",
    "@app.route('/predict', methods=['POST'])\n",
    "def predict():\n",
    "    try:\n",
    "        # Parse input JSON\n",
    "        data = request.get_json()\n",
    "\n",
    "        # Ensure input is a string\n",
    "        input_text = data.get('input_text')\n",
    "        if not isinstance(input_text, str):\n",
    "            return jsonify({'error': 'Invalid input. Expected a string.'}), 400\n",
    "\n",
    "        # Predict using the model\n",
    "        prediction = model.predict([input_text])  # Wrap input in a list for scikit-learn models\n",
    "\n",
    "        # Return the result\n",
    "        return jsonify({'prediction': prediction[0]})  # Adjust as needed for model output\n",
    "    except Exception as e:\n",
    "        return jsonify({'error': str(e)}), 500\n",
    "\n",
    "# Ensure proper startup for Flask app\n",
    "if __name__ == '__main__':\n",
    "    # Use this block to avoid reloader issues\n",
    "    app.run(host='0.0.0.0', port=5000, debug=False)"
   ]
  },
  {
   "cell_type": "code",
   "execution_count": null,
   "id": "c3e9f878-6078-4b7b-8e52-881c00518e72",
   "metadata": {},
   "outputs": [],
   "source": [
    "!pip install flask-ngrok"
   ]
  },
  {
   "cell_type": "code",
   "execution_count": null,
   "id": "bb69ac21-6220-4a9a-9b38-d0b0c95606d0",
   "metadata": {},
   "outputs": [],
   "source": [
    "from flask_ngrok import run_with_ngrok\n",
    "\n",
    "app = Flask(__name__)\n",
    "run_with_ngrok(app)  # Starts ngrok when you run the Flask app\n",
    "\n",
    "@app.route('/predict', methods=['POST'])\n",
    "def predict():\n",
    "    try:\n",
    "        data = request.get_json()\n",
    "        input_text = data.get('input_text')\n",
    "        if not isinstance(input_text, str):\n",
    "            return jsonify({'error': 'Invalid input. Expected a string.'}), 400\n",
    "        prediction = model.predict([input_text])\n",
    "        return jsonify({'prediction': prediction[0]})\n",
    "    except Exception as e:\n",
    "        return jsonify({'error': str(e)}), 500\n",
    "\n",
    "if __name__ == '__main__':\n",
    "    app.run()"
   ]
  },
  {
   "cell_type": "code",
   "execution_count": null,
   "id": "bc51c859-43d7-46bd-bfab-d80923005960",
   "metadata": {},
   "outputs": [],
   "source": [
    "import requests\n",
    "import json\n",
    "\n",
    "url = \"http://127.0.0.1:5000/predict\"\n",
    "headers = {\"Content-Type\": \"application/json\"}\n",
    "data = {\"input_text\": \"This is a test text\"}\n",
    "\n",
    "response = requests.post(url, headers=headers, data=json.dumps(data))\n",
    "print(response.json())"
   ]
  }
 ],
 "metadata": {
  "kaggle": {
   "accelerator": "none",
   "dataSources": [
    {
     "datasetId": 167266,
     "sourceId": 380554,
     "sourceType": "datasetVersion"
    },
    {
     "datasetId": 6420560,
     "sourceId": 10366127,
     "sourceType": "datasetVersion"
    }
   ],
   "dockerImageVersionId": 30822,
   "isGpuEnabled": false,
   "isInternetEnabled": true,
   "language": "python",
   "sourceType": "notebook"
  },
  "kernelspec": {
   "display_name": "Python 3 (ipykernel)",
   "language": "python",
   "name": "python3"
  },
  "language_info": {
   "codemirror_mode": {
    "name": "ipython",
    "version": 3
   },
   "file_extension": ".py",
   "mimetype": "text/x-python",
   "name": "python",
   "nbconvert_exporter": "python",
   "pygments_lexer": "ipython3",
   "version": "3.12.4"
  },
  "papermill": {
   "default_parameters": {},
   "duration": 663.0676,
   "end_time": "2025-01-04T13:44:08.053838",
   "environment_variables": {},
   "exception": true,
   "input_path": "__notebook__.ipynb",
   "output_path": "__notebook__.ipynb",
   "parameters": {},
   "start_time": "2025-01-04T13:33:04.986238",
   "version": "2.6.0"
  }
 },
 "nbformat": 4,
 "nbformat_minor": 5
}
